{
 "cells": [
  {
   "cell_type": "code",
   "execution_count": 1,
   "metadata": {},
   "outputs": [],
   "source": [
    "import numpy as np\n",
    "import statsmodels.api as sm\n",
    "import pandas as pd\n",
    "import matplotlib.pyplot as plt\n",
    "import hashlib"
   ]
  },
  {
   "cell_type": "code",
   "execution_count": 2,
   "metadata": {},
   "outputs": [],
   "source": [
    "file = '03db80f4b2520278a5d31bd138a6e499'\n",
    "a = np.load(file + '.npz')\n",
    "\n",
    "X, Y = a['X'], a['Y']\n",
    "\n",
    "data = pd.DataFrame(X, columns=[i for i in range(X.shape[-1])])\n",
    "data['Y'] = Y"
   ]
  },
  {
   "cell_type": "code",
   "execution_count": 3,
   "metadata": {},
   "outputs": [],
   "source": [
    "\n",
    "model = sm.GLM(data['Y'], sm.add_constant(data[[i for i in range(X.shape[-1])]]), family=sm.families.Poisson())"
   ]
  },
  {
   "cell_type": "code",
   "execution_count": 4,
   "metadata": {},
   "outputs": [],
   "source": [
    "res = model.fit()"
   ]
  },
  {
   "cell_type": "code",
   "execution_count": 5,
   "metadata": {},
   "outputs": [
    {
     "data": {
      "text/html": [
       "<table class=\"simpletable\">\n",
       "<caption>Generalized Linear Model Regression Results</caption>\n",
       "<tr>\n",
       "  <th>Dep. Variable:</th>           <td>Y</td>        <th>  No. Observations:  </th>   <td>100000</td>   \n",
       "</tr>\n",
       "<tr>\n",
       "  <th>Model:</th>                  <td>GLM</td>       <th>  Df Residuals:      </th>   <td> 99991</td>   \n",
       "</tr>\n",
       "<tr>\n",
       "  <th>Model Family:</th>         <td>Poisson</td>     <th>  Df Model:          </th>   <td>     8</td>   \n",
       "</tr>\n",
       "<tr>\n",
       "  <th>Link Function:</th>          <td>Log</td>       <th>  Scale:             </th>  <td>  1.0000</td>  \n",
       "</tr>\n",
       "<tr>\n",
       "  <th>Method:</th>                <td>IRLS</td>       <th>  Log-Likelihood:    </th> <td>-2.1688e+05</td>\n",
       "</tr>\n",
       "<tr>\n",
       "  <th>Date:</th>            <td>Mon, 14 Oct 2024</td> <th>  Deviance:          </th>  <td>  68892.</td>  \n",
       "</tr>\n",
       "<tr>\n",
       "  <th>Time:</th>                <td>01:25:26</td>     <th>  Pearson chi2:      </th>  <td>9.60e+04</td>  \n",
       "</tr>\n",
       "<tr>\n",
       "  <th>No. Iterations:</th>         <td>22</td>        <th>  Pseudo R-squ. (CS):</th>   <td> 1.000</td>   \n",
       "</tr>\n",
       "<tr>\n",
       "  <th>Covariance Type:</th>     <td>nonrobust</td>    <th>                     </th>      <td> </td>     \n",
       "</tr>\n",
       "</table>\n",
       "<table class=\"simpletable\">\n",
       "<tr>\n",
       "    <td></td>       <th>coef</th>     <th>std err</th>      <th>z</th>      <th>P>|z|</th>  <th>[0.025</th>    <th>0.975]</th>  \n",
       "</tr>\n",
       "<tr>\n",
       "  <th>const</th> <td>-2.091e-05</td> <td> 6.27e-05</td> <td>   -0.334</td> <td> 0.739</td> <td>   -0.000</td> <td>    0.000</td>\n",
       "</tr>\n",
       "<tr>\n",
       "  <th>0</th>     <td>    0.9341</td> <td> 9.09e-06</td> <td> 1.03e+05</td> <td> 0.000</td> <td>    0.934</td> <td>    0.934</td>\n",
       "</tr>\n",
       "<tr>\n",
       "  <th>1</th>     <td>    0.0945</td> <td> 5.56e-06</td> <td>  1.7e+04</td> <td> 0.000</td> <td>    0.094</td> <td>    0.094</td>\n",
       "</tr>\n",
       "<tr>\n",
       "  <th>2</th>     <td>    0.9454</td> <td> 9.18e-06</td> <td> 1.03e+05</td> <td> 0.000</td> <td>    0.945</td> <td>    0.945</td>\n",
       "</tr>\n",
       "<tr>\n",
       "  <th>3</th>     <td>    0.4296</td> <td> 6.13e-06</td> <td> 7.01e+04</td> <td> 0.000</td> <td>    0.430</td> <td>    0.430</td>\n",
       "</tr>\n",
       "<tr>\n",
       "  <th>4</th>     <td>    0.3955</td> <td> 6.61e-06</td> <td> 5.98e+04</td> <td> 0.000</td> <td>    0.395</td> <td>    0.395</td>\n",
       "</tr>\n",
       "<tr>\n",
       "  <th>5</th>     <td>   -0.5678</td> <td> 7.15e-06</td> <td>-7.94e+04</td> <td> 0.000</td> <td>   -0.568</td> <td>   -0.568</td>\n",
       "</tr>\n",
       "<tr>\n",
       "  <th>6</th>     <td>    0.9525</td> <td> 5.89e-06</td> <td> 1.62e+05</td> <td> 0.000</td> <td>    0.953</td> <td>    0.953</td>\n",
       "</tr>\n",
       "<tr>\n",
       "  <th>7</th>     <td>   -0.9875</td> <td> 8.98e-06</td> <td> -1.1e+05</td> <td> 0.000</td> <td>   -0.988</td> <td>   -0.988</td>\n",
       "</tr>\n",
       "</table>"
      ],
      "text/latex": [
       "\\begin{center}\n",
       "\\begin{tabular}{lclc}\n",
       "\\toprule\n",
       "\\textbf{Dep. Variable:}   &        Y         & \\textbf{  No. Observations:  } &    100000    \\\\\n",
       "\\textbf{Model:}           &       GLM        & \\textbf{  Df Residuals:      } &     99991    \\\\\n",
       "\\textbf{Model Family:}    &     Poisson      & \\textbf{  Df Model:          } &         8    \\\\\n",
       "\\textbf{Link Function:}   &       Log        & \\textbf{  Scale:             } &     1.0000   \\\\\n",
       "\\textbf{Method:}          &       IRLS       & \\textbf{  Log-Likelihood:    } & -2.1688e+05  \\\\\n",
       "\\textbf{Date:}            & Mon, 14 Oct 2024 & \\textbf{  Deviance:          } &     68892.   \\\\\n",
       "\\textbf{Time:}            &     01:25:26     & \\textbf{  Pearson chi2:      } &   9.60e+04   \\\\\n",
       "\\textbf{No. Iterations:}  &        22        & \\textbf{  Pseudo R-squ. (CS):} &     1.000    \\\\\n",
       "\\textbf{Covariance Type:} &    nonrobust     & \\textbf{                     } &              \\\\\n",
       "\\bottomrule\n",
       "\\end{tabular}\n",
       "\\begin{tabular}{lcccccc}\n",
       "               & \\textbf{coef} & \\textbf{std err} & \\textbf{z} & \\textbf{P$> |$z$|$} & \\textbf{[0.025} & \\textbf{0.975]}  \\\\\n",
       "\\midrule\n",
       "\\textbf{const} &   -2.091e-05  &     6.27e-05     &    -0.334  &         0.739        &       -0.000    &        0.000     \\\\\n",
       "\\textbf{0}     &       0.9341  &     9.09e-06     &  1.03e+05  &         0.000        &        0.934    &        0.934     \\\\\n",
       "\\textbf{1}     &       0.0945  &     5.56e-06     &   1.7e+04  &         0.000        &        0.094    &        0.094     \\\\\n",
       "\\textbf{2}     &       0.9454  &     9.18e-06     &  1.03e+05  &         0.000        &        0.945    &        0.945     \\\\\n",
       "\\textbf{3}     &       0.4296  &     6.13e-06     &  7.01e+04  &         0.000        &        0.430    &        0.430     \\\\\n",
       "\\textbf{4}     &       0.3955  &     6.61e-06     &  5.98e+04  &         0.000        &        0.395    &        0.395     \\\\\n",
       "\\textbf{5}     &      -0.5678  &     7.15e-06     & -7.94e+04  &         0.000        &       -0.568    &       -0.568     \\\\\n",
       "\\textbf{6}     &       0.9525  &     5.89e-06     &  1.62e+05  &         0.000        &        0.953    &        0.953     \\\\\n",
       "\\textbf{7}     &      -0.9875  &     8.98e-06     &  -1.1e+05  &         0.000        &       -0.988    &       -0.988     \\\\\n",
       "\\bottomrule\n",
       "\\end{tabular}\n",
       "%\\caption{Generalized Linear Model Regression Results}\n",
       "\\end{center}"
      ],
      "text/plain": [
       "<class 'statsmodels.iolib.summary.Summary'>\n",
       "\"\"\"\n",
       "                 Generalized Linear Model Regression Results                  \n",
       "==============================================================================\n",
       "Dep. Variable:                      Y   No. Observations:               100000\n",
       "Model:                            GLM   Df Residuals:                    99991\n",
       "Model Family:                 Poisson   Df Model:                            8\n",
       "Link Function:                    Log   Scale:                          1.0000\n",
       "Method:                          IRLS   Log-Likelihood:            -2.1688e+05\n",
       "Date:                Mon, 14 Oct 2024   Deviance:                       68892.\n",
       "Time:                        01:25:26   Pearson chi2:                 9.60e+04\n",
       "No. Iterations:                    22   Pseudo R-squ. (CS):              1.000\n",
       "Covariance Type:            nonrobust                                         \n",
       "==============================================================================\n",
       "                 coef    std err          z      P>|z|      [0.025      0.975]\n",
       "------------------------------------------------------------------------------\n",
       "const      -2.091e-05   6.27e-05     -0.334      0.739      -0.000       0.000\n",
       "0              0.9341   9.09e-06   1.03e+05      0.000       0.934       0.934\n",
       "1              0.0945   5.56e-06    1.7e+04      0.000       0.094       0.094\n",
       "2              0.9454   9.18e-06   1.03e+05      0.000       0.945       0.945\n",
       "3              0.4296   6.13e-06   7.01e+04      0.000       0.430       0.430\n",
       "4              0.3955   6.61e-06   5.98e+04      0.000       0.395       0.395\n",
       "5             -0.5678   7.15e-06  -7.94e+04      0.000      -0.568      -0.568\n",
       "6              0.9525   5.89e-06   1.62e+05      0.000       0.953       0.953\n",
       "7             -0.9875   8.98e-06   -1.1e+05      0.000      -0.988      -0.988\n",
       "==============================================================================\n",
       "\"\"\""
      ]
     },
     "execution_count": 5,
     "metadata": {},
     "output_type": "execute_result"
    }
   ],
   "source": [
    "res.summary()"
   ]
  },
  {
   "cell_type": "code",
   "execution_count": 6,
   "metadata": {},
   "outputs": [
    {
     "name": "stdout",
     "output_type": "stream",
     "text": [
      "03db80f4b2520278a5d31bd138a6e499\n",
      "True\n"
     ]
    }
   ],
   "source": [
    "hash_md5 = hashlib.md5()\n",
    "hash_md5.update(np.array(res.params)[1:].round(1).tobytes())\n",
    "md5_coefs_hash = hash_md5.hexdigest()\n",
    "print(md5_coefs_hash)\n",
    "print(md5_coefs_hash == file)"
   ]
  },
  {
   "cell_type": "code",
   "execution_count": 7,
   "metadata": {},
   "outputs": [
    {
     "name": "stdout",
     "output_type": "stream",
     "text": [
      "(100000,)\n"
     ]
    }
   ],
   "source": [
    "preds = res.predict(sm.add_constant(data[[i for i in range(X.shape[-1])]]))\n",
    "print(preds.shape)"
   ]
  },
  {
   "cell_type": "code",
   "execution_count": 8,
   "metadata": {},
   "outputs": [
    {
     "data": {
      "image/png": "[encoded data removed]",
      "text/plain": [
       "<Figure size 640x480 with 1 Axes>"
      ]
     },
     "metadata": {},
     "output_type": "display_data"
    }
   ],
   "source": [
    "plt.scatter(data['Y'], preds)\n",
    "plt.ylabel('real')\n",
    "plt.xlabel('predicted')\n",
    "plt.grid()"
   ]
  },
  {
   "cell_type": "code",
   "execution_count": null,
   "metadata": {},
   "outputs": [],
   "source": []
  }
 ],
 "metadata": {
  "kernelspec": {
   "display_name": "Python 3",
   "language": "python",
   "name": "python3"
  },
  "language_info": {
   "codemirror_mode": {
    "name": "ipython",
    "version": 3
   },
   "file_extension": ".py",
   "mimetype": "text/x-python",
   "name": "python",
   "nbconvert_exporter": "python",
   "pygments_lexer": "ipython3",
   "version": "3.8.10"
  }
 },
 "nbformat": 4,
 "nbformat_minor": 2
}
